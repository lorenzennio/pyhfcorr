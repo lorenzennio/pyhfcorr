{
 "cells": [
  {
   "cell_type": "markdown",
   "metadata": {},
   "source": [
    "# Treating correlated uncertainties with pyhf\n",
    "\n",
    "## Introduction to HistFactory\n",
    "\n",
    "[`pyhf`](https://pyhf.readthedocs.io) is a python implementation of the [`HistFactory`](https://cds.cern.ch/record/1456844/files/CERN-OPEN-2012-016.pdf) statistical model. This is a very general tool for statistical inference of binned data.\n",
    "\n",
    "<p align=\"center\">\n",
    "  <img src=\"https://cds.cern.ch/record/2627611/files/Higgsto4l.png?subformat=icon-1440\" />\n",
    "</p>"
   ]
  },
  {
   "cell_type": "markdown",
   "metadata": {},
   "source": [
    "Measurements in High Energy Physics (HEP) rely on determining the compatibility of observed collision events with theoretical predictions. The relationship between observed collision events and theoretical predictions is often formalised in a statistical model $f(\\bm{x}|\\bm{\\phi})$ describing the probability of data $\\bm{x}$ given model parameters $\\bm{\\phi}$,\n",
    "\n",
    "$$\n",
    "f(\\bm{x}|\\bm{\\phi}) = f(\\bm{x}|\\overbrace{\\bm{\\eta}}^{\\llap{\\text{free}}},\\underbrace{\\bm{\\chi}}_{\\llap{\\text{constrained}}}) = f(\\bm{x}|\\overbrace{\\psi}^{\\rlap{\\text{parameters of interest}}},\\underbrace{\\theta}_{\\rlap{\\text{nuisance parameters}}}).\n",
    "$$\n",
    "\n",
    "Statistical models described using [`HistFactory`](https://cds.cern.ch/record/1456844/files/CERN-OPEN-2012-016.pdf) center around the simultaneous measurement of disjoint binned distributions (channels) observed as event counts $\\bm{n}$,\n",
    "\n",
    "$$\n",
    "f(\\bm{n}, \\bm{a} \\,|\\,\\bm{\\eta},\\bm{\\chi}) = \\underbrace{\\prod_{c\\in\\mathrm{\\,channels}} \\prod_{b \\in \\mathrm{\\,bins}_c}\\textrm{Pois}\\left(n_{cb} \\,\\middle|\\, \\nu_{cb}\\left(\\bm{\\eta},\\bm{\\chi}\\right)\\right)}_{\\substack{\\text{Simultaneous measurement}\\\\%\n",
    "  \\text{of multiple channels}}} \\underbrace{\\prod_{\\chi \\in \\bm{\\chi}} c_{\\chi}(a_{\\chi} |\\, \\chi)}_{\\substack{\\text{constraint terms}\\\\%\n",
    "  \\text{for }\\text{\"auxiliary measurements\"}}}.\n",
    "$$\n",
    "\n",
    "For each channel, the overall expected event rate is the sum over a number of physics processes (samples).\n",
    "\n",
    "\n",
    "The expected rate of events $\\nu_{cb}(\\bm{\\eta},\\bm{\\chi})$ as a function of unconstrained parameters $\\bm{\\eta}$ and constrained parameters $\\bm{\\chi}$. The latter has corresponding one-dimensional constraint terms $c_{\\chi}(a_{\\chi} |\\, \\chi)$ with auxiliary data $a_{\\chi}$ constraining the parameter $\\chi$. The event rates $\\nu_{cb}$ are defined as\n",
    "\n",
    "$$\n",
    "\\nu_{cb}\\left(\\bm{\\phi}\\right) = \\sum_{s\\in\\mathrm{\\,samples}} \\nu_{scb}\\left(\\bm{\\eta},\\bm{\\chi}\\right) = \\sum_{s\\in\\mathrm{\\,samples}}\\underbrace{\\left(\\prod_{\\kappa\\in\\,\\bm{\\kappa}} \\kappa_{scb}\\left(\\bm{\\eta},\\bm{\\chi}\\right)\\right)}_{\\text{multiplicative modifiers}}\\, \\Bigg(\\nu_{scb}^0\\left(\\bm{\\eta}, \\bm{\\chi}\\right) + \\underbrace{\\sum_{\\Delta\\in\\bm{\\Delta}} \\Delta_{scb}\\left(\\bm{\\eta},\\bm{\\chi}\\right)}_{\\text{additive modifiers}}\\Bigg)\\,.\n",
    "$$\n",
    "\n",
    "The total rates are the sum over sample rates $\\nu_{csb}$, each determined from a nominal rate $\\nu_{scb}^0$ and a set of multiplicative and additive denoted rate modifiers $\\bm{\\kappa}(\\bm{\\phi})$ and $\\bm{\\Delta}(\\bm{\\phi})$. These modifiers are functions of (usually a single) model parameters."
   ]
  },
  {
   "cell_type": "markdown",
   "metadata": {},
   "source": [
    "\n",
    "\n",
    "Rate modifications are defined in [`HistFactory`](https://cds.cern.ch/record/1456844/files/CERN-OPEN-2012-016.pdf) for bin $b$, sample $s$, channel $c$. Each modifier is represented by a parameter $\\phi \\in \\{\\gamma, \\alpha, \\lambda, \\mu\\}$. $\\sigma_b$ corresponds to the relative uncertainty of the event rate, whereas $\\delta_b$ is the event rate uncertainty of the sample relative to the total event rate $\\nu_b = \\sum_s \\nu^0_{sb}$.\n",
    "\n",
    "![modifiers and constraints](https://pyhf.github.io/pyhf-tutorial/_images/modifiers_and_constraints.png)"
   ]
  },
  {
   "cell_type": "markdown",
   "metadata": {},
   "source": [
    "## Correlated uncertainties\n",
    "\n",
    "One feature that is not included in [`pyhf`](https://pyhf.readthedocs.io), is the correct treatment of arbitrarily correlated uncertainties. The current implementation features only fully (de)correlated uncertainties.\n",
    "\n",
    "The use of this package is to add the option for arbitrarily correlated uncertainties, by a simple pre-processing step of the [`pyhf`](https://pyhf.readthedocs.io) model. The mathematical method used is [singular value decomposition (SVD)](https://www.cs.cmu.edu/~elaw/papers/pca.pdf).\n",
    "\n",
    "To account for correlations between parameters, one simply adds a `correlation` field to the [`pyhf`](https://pyhf.readthedocs.io) model. Here we specify a `name`, which will be the new modifier name, the correlated variables `vars`, and the correlation matrix `corr`:\n",
    "\n",
    "```python\n",
    "spec = {\n",
    "    \"channels\" : ...,\n",
    "    \"correlations\": [\n",
    "        {\n",
    "            \"name\": \"corr_1_2\",\n",
    "            \"vars\": [\"unc1\", \"unc2\"],\n",
    "            \"corr\": [[1.0, 0.5], [0.5, 1.]],\n",
    "        }\n",
    "    ]\n",
    "}\n",
    "```\n",
    "\n",
    "By pre-processing the model specification, we obtain a new specification, which is now [`pyhf`](https://pyhf.readthedocs.io) compatible and has the correlation correctly implemented:\n",
    "\n",
    "```python\n",
    "new_spec = pyhfcorr.decorrelate.decorrelate(spec)\n",
    "```\n",
    "We will use the `histosys` modifier for illustration below. The method applies just as well for the `shapesys`, `normsys` and `staterror`.\n",
    "\n",
    "The `lumi, normfactor, shapefactor` modifiers, which contain no data, can only be fully (de)correlated and should be treated in [`pyhf`](https://pyhf.readthedocs.io) directly."
   ]
  },
  {
   "cell_type": "code",
   "execution_count": 1,
   "metadata": {},
   "outputs": [],
   "source": [
    "import pyhf\n",
    "import numpy as np\n",
    "import matplotlib.pyplot as plt\n",
    "import pyhfcorr"
   ]
  },
  {
   "cell_type": "code",
   "execution_count": 2,
   "metadata": {},
   "outputs": [],
   "source": [
    "# let's generate some toy histograms\n",
    "bins = np.arange(11)\n",
    "hist1 = np.array([2. , 3., 6.,  8.,  7., 7., 6., 2., 3., 1.])\n",
    "hist2 = np.array([3. , 6., 9., 12., 15., 9., 6., 3., 3., 2.])"
   ]
  },
  {
   "cell_type": "markdown",
   "metadata": {},
   "source": [
    "## Correlations within sample\n",
    "\n",
    "First, we create a simple [`pyhf`](https://pyhf.readthedocs.io) model with one sample and two `histosys` modifiers."
   ]
  },
  {
   "cell_type": "code",
   "execution_count": 3,
   "metadata": {},
   "outputs": [],
   "source": [
    "samples = [\n",
    "    {\n",
    "        \"name\": \"sample1\",\n",
    "        \"data\": (2*hist2).tolist(),\n",
    "        \"modifiers\": [\n",
    "            {\"name\": \"mu\", \"type\": \"normfactor\", \"data\" : None},\n",
    "            {\n",
    "                \"name\": \"u1\",\n",
    "                \"type\": \"histosys\",\n",
    "                \"data\": {\n",
    "                    \"lo_data\": (2*hist2-hist1).tolist(),\n",
    "                    \"hi_data\": (2*hist2+hist1).tolist()\n",
    "                }\n",
    "            },\n",
    "            {\n",
    "                \"name\": \"u2\",\n",
    "                \"type\": \"histosys\",\n",
    "                \"data\": {\n",
    "                    \"lo_data\": (2*hist2-hist2).tolist(),\n",
    "                    \"hi_data\": (2*hist2+hist2).tolist()\n",
    "                }\n",
    "            }\n",
    "        ],\n",
    "    },\n",
    "]\n",
    "spec = {\"channels\" : [{\"name\" : \"singlechannel\", \"samples\" : samples}]}\n",
    "model = pyhf.Model(spec)\n"
   ]
  },
  {
   "cell_type": "markdown",
   "metadata": {},
   "source": [
    "As a first example, we fully correlate `u1` and `u2` by adding a `correlations` entry and using `pyhfcorr.decorrelate.decorrelate` to obtain the [`pyhf`](https://pyhf.readthedocs.io) compatible spec:"
   ]
  },
  {
   "cell_type": "code",
   "execution_count": 4,
   "metadata": {},
   "outputs": [
    {
     "name": "stdout",
     "output_type": "stream",
     "text": [
      "Processing correlations ...\n"
     ]
    },
    {
     "name": "stderr",
     "output_type": "stream",
     "text": [
      "/home/lorenz/pyhfcorr/src/pyhfcorr/decorrelate.py:150: UserWarning: Modifier corr[1] is redundant and is not added.\n",
      "  warnings.warn(f\"Modifier {name} is redundant and is not added.\")\n"
     ]
    },
    {
     "data": {
      "text/plain": [
       "{'channels': [{'name': 'singlechannel',\n",
       "   'samples': [{'name': 'sample1',\n",
       "     'data': [6.0, 12.0, 18.0, 24.0, 30.0, 18.0, 12.0, 6.0, 6.0, 4.0],\n",
       "     'modifiers': [{'name': 'mu', 'type': 'normfactor', 'data': None},\n",
       "      {'type': 'histosys',\n",
       "       'data': {'lo_data': [1.0, 3.0, 3.0, 4.0, 8.0, 2.0, 0.0, 1.0, 0.0, 1.0],\n",
       "        'hi_data': [11.0,\n",
       "         21.0,\n",
       "         33.0,\n",
       "         44.0,\n",
       "         52.0,\n",
       "         34.0,\n",
       "         24.0,\n",
       "         11.0,\n",
       "         12.0,\n",
       "         7.0]},\n",
       "       'name': 'corr[0]'}]}]}]}"
      ]
     },
     "execution_count": 4,
     "metadata": {},
     "output_type": "execute_result"
    }
   ],
   "source": [
    "spec = {\n",
    "    \"channels\" : [{\"name\" : \"singlechannel\", \"samples\" : samples}],\n",
    "    \"correlations\": [\n",
    "        {\n",
    "            \"name\": \"corr\",\n",
    "            \"vars\": [\"u1\", \"u2\"],\n",
    "            \"corr\": [[1., 1.], [1., 1.]],\n",
    "        }\n",
    "    ]}\n",
    "new_spec = pyhfcorr.decorrelate(spec)\n",
    "new_model = pyhf.Model(new_spec)\n",
    "new_spec"
   ]
  },
  {
   "cell_type": "markdown",
   "metadata": {},
   "source": [
    "We see that one parameter (`corr[0]`) was added to the model. In general, the number of parameters is invariant under SVD, but since we have a full correlation here, `pyhfcorr` does not add the redundant parameter `corr[1]`, and outputs a warning.\n",
    "\n",
    "We can check that the data of the `corr[0]` modifier matches our expectations:"
   ]
  },
  {
   "cell_type": "code",
   "execution_count": 5,
   "metadata": {},
   "outputs": [
    {
     "data": {
      "text/plain": [
       "array([1., 3., 3., 4., 8., 2., 0., 1., 0., 1.])"
      ]
     },
     "execution_count": 5,
     "metadata": {},
     "output_type": "execute_result"
    }
   ],
   "source": [
    "# lo_data\n",
    "2*hist2-hist1-hist2"
   ]
  },
  {
   "cell_type": "code",
   "execution_count": 6,
   "metadata": {},
   "outputs": [
    {
     "data": {
      "text/plain": [
       "array([11., 21., 33., 44., 52., 34., 24., 11., 12.,  7.])"
      ]
     },
     "execution_count": 6,
     "metadata": {},
     "output_type": "execute_result"
    }
   ],
   "source": [
    "# hi_data\n",
    "2*hist2+hist1+hist2"
   ]
  },
  {
   "cell_type": "code",
   "execution_count": 7,
   "metadata": {},
   "outputs": [
    {
     "data": {
      "image/png": "[encoded data removed]",
      "text/plain": [
       "<Figure size 640x480 with 1 Axes>"
      ]
     },
     "metadata": {},
     "output_type": "display_data"
    }
   ],
   "source": [
    "plt.stairs(2*hist2+hist1+hist2, bins, fill = True, label = \"2*hist2+hist1+hist2\")\n",
    "plt.stairs(2*hist2, bins, fill=True, label = \"nominal\")\n",
    "plt.stairs(2*hist2-hist1-hist2, bins, fill=True, label = \"2*hist2-hist1-hist2\")\n",
    "\n",
    "initial_parameters = new_model.config.suggested_init()\n",
    "\n",
    "# we can set corr[0] to (-1, 0, +1) to check the agreement with the expectation\n",
    "initial_parameters[new_model.config.par_slice('corr[0]').start] = 0.\n",
    "\n",
    "plt.stairs(new_model.expected_data(initial_parameters, include_auxdata=False), bins, linewidth=2, color='r')\n",
    "\n",
    "plt.legend()\n",
    "plt.show()"
   ]
  },
  {
   "cell_type": "markdown",
   "metadata": {},
   "source": [
    "### A simple example with arbitrary correlation"
   ]
  },
  {
   "cell_type": "code",
   "execution_count": 8,
   "metadata": {},
   "outputs": [
    {
     "name": "stdout",
     "output_type": "stream",
     "text": [
      "Processing correlations ...\n"
     ]
    },
    {
     "data": {
      "text/plain": [
       "{'channels': [{'name': 'singlechannel',\n",
       "   'samples': [{'name': 'sample1',\n",
       "     'data': [6.0, 12.0, 18.0, 24.0, 30.0, 18.0, 12.0, 6.0, 6.0, 4.0],\n",
       "     'modifiers': [{'name': 'mu', 'type': 'normfactor', 'data': None},\n",
       "      {'type': 'histosys',\n",
       "       'data': {'lo_data': [2.2919007564521685,\n",
       "         5.325421361613903,\n",
       "         6.8757022693565055,\n",
       "         9.167603025808674,\n",
       "         13.68436332838954,\n",
       "         6.134082420646939,\n",
       "         3.1005618154852037,\n",
       "         2.2919007564521685,\n",
       "         1.5502809077426019,\n",
       "         1.775140453871301],\n",
       "        'hi_data': [9.708099243547831,\n",
       "         18.674578638386098,\n",
       "         29.124297730643494,\n",
       "         38.832396974191326,\n",
       "         46.31563667161046,\n",
       "         29.86591757935306,\n",
       "         20.899438184514796,\n",
       "         9.708099243547831,\n",
       "         10.449719092257398,\n",
       "         6.224859546128699]},\n",
       "       'name': 'corr[0]'},\n",
       "      {'type': 'histosys',\n",
       "       'data': {'lo_data': [5.329179606750063,\n",
       "         9.98753882025019,\n",
       "         15.98753882025019,\n",
       "         21.316718427000254,\n",
       "         24.633436854000507,\n",
       "         16.658359213500127,\n",
       "         12.0,\n",
       "         5.329179606750063,\n",
       "         6.0,\n",
       "         3.3291796067500634],\n",
       "        'hi_data': [6.670820393249937,\n",
       "         14.01246117974981,\n",
       "         20.01246117974981,\n",
       "         26.683281572999746,\n",
       "         35.36656314599949,\n",
       "         19.341640786499873,\n",
       "         12.0,\n",
       "         6.670820393249937,\n",
       "         6.0,\n",
       "         4.670820393249937]},\n",
       "       'name': 'corr[1]'}]}]}]}"
      ]
     },
     "execution_count": 8,
     "metadata": {},
     "output_type": "execute_result"
    }
   ],
   "source": [
    "corr = [[1., 0.1], [0.1, 1.]]\n",
    "spec = {\n",
    "    \"channels\" : [{\"name\" : \"singlechannel\", \"samples\" : samples}],\n",
    "    \"correlations\": [\n",
    "        {\n",
    "            \"name\": \"corr\",\n",
    "            \"vars\": [\"u1\", \"u2\"],\n",
    "            \"corr\": corr,\n",
    "        }\n",
    "    ]}\n",
    "new_spec = pyhfcorr.decorrelate(spec)\n",
    "new_model = pyhf.Model(new_spec)\n",
    "new_spec"
   ]
  },
  {
   "cell_type": "markdown",
   "metadata": {},
   "source": [
    "**SVD** decomposes a correlation matrix $C$ as\n",
    "\n",
    "$$ C = U S^2 U^H = USSU^H = (US)(US)^H,$$\n",
    "\n",
    "where $U$ is a unitary transformation matrix, $UU^H=1$ and $S$ is the diagonal matrix of standard deviations, $S=S^H$.\n",
    "\n",
    "In two dimensions this is rather simple:\n",
    "- The correlation coefficient $\\rho$ (offdiagonal element in $C$) tells us the amount of correlation long an axis rotated by $\\pm \\pi /4$, for positive/negative correlation, giving\n",
    "$$\n",
    "U = \\frac{1}{\\sqrt{2}}\n",
    "\\begin{pmatrix}\n",
    "\\pm 1 & \\mp 1\\\\\n",
    "\\pm 1 & \\pm1\n",
    "\\end{pmatrix}.\n",
    "$$\n",
    "\n",
    "- The scaling is just the square root of the eigenvalues of $C$,\n",
    "$$\n",
    "\\sigma_\\pm = \\sqrt{1\\pm \\rho}.\n",
    "$$"
   ]
  },
  {
   "cell_type": "code",
   "execution_count": 9,
   "metadata": {},
   "outputs": [
    {
     "data": {
      "text/plain": [
       "[0.7416198487095663, 0.6708203932499369]"
      ]
     },
     "execution_count": 9,
     "metadata": {},
     "output_type": "execute_result"
    }
   ],
   "source": [
    "scale_factors = np.array([np.sqrt((1+corr[0][1])/2), np.sqrt((1-corr[0][1])/2)]).tolist()\n",
    "scale_factors"
   ]
  },
  {
   "cell_type": "markdown",
   "metadata": {},
   "source": [
    "We can cross-check the `hi_data` the above modifiers:"
   ]
  },
  {
   "cell_type": "code",
   "execution_count": 10,
   "metadata": {},
   "outputs": [
    {
     "name": "stdout",
     "output_type": "stream",
     "text": [
      "corr[0] hi_data \n",
      " [ 9.70809924 18.67457864 29.12429773 38.83239697 46.31563667 29.86591758\n",
      " 20.89943818  9.70809924 10.44971909  6.22485955]\n",
      "corr[1] hi_data \n",
      " [ 6.67082039 14.01246118 20.01246118 26.68328157 35.36656315 19.34164079\n",
      " 12.          6.67082039  6.          4.67082039]\n"
     ]
    }
   ],
   "source": [
    "print(\"corr[0] hi_data \\n\",\n",
    "      2*hist2+scale_factors[0]*hist1+scale_factors[0]*hist2)\n",
    "\n",
    "print(\"corr[1] hi_data \\n\",\n",
    "      2*hist2-scale_factors[1]*hist1+scale_factors[1]*hist2)"
   ]
  },
  {
   "cell_type": "code",
   "execution_count": 11,
   "metadata": {},
   "outputs": [
    {
     "data": {
      "image/png": "[encoded data removed]",
      "text/plain": [
       "<Figure size 640x480 with 1 Axes>"
      ]
     },
     "metadata": {},
     "output_type": "display_data"
    }
   ],
   "source": [
    "plt.stairs(2*hist2+scale_factors[0]*hist1+scale_factors[0]*hist2,\n",
    "           bins, fill = True, label = \"corr[0] up\")\n",
    "plt.stairs(2*hist2-scale_factors[1]*hist1+scale_factors[1]*hist2,\n",
    "           bins, fill = True, label = \"corr[1] up\")\n",
    "plt.stairs(2*hist2, bins, fill=True, label = \"nominal\")\n",
    "plt.stairs(2*hist2+scale_factors[1]*hist1-scale_factors[1]*hist2,\n",
    "           bins, fill = True, label = \"corr[1] down\")\n",
    "plt.stairs(2*hist2-scale_factors[0]*hist1-scale_factors[0]*hist2,\n",
    "           bins, fill = True, label = \"corr[0] down\")\n",
    "\n",
    "initial_parameters = new_model.config.suggested_init()\n",
    "\n",
    "# we can set corr[0] and corr[1] to (-1, 0, +1) to check the agreement with the expectation\n",
    "initial_parameters[new_model.config.par_slice('corr[0]').start] = 0.\n",
    "initial_parameters[new_model.config.par_slice('corr[1]').start] = 0.\n",
    "\n",
    "plt.stairs(new_model.expected_data(initial_parameters, include_auxdata=False), bins, linewidth=2, color='r')\n",
    "\n",
    "plt.legend()\n",
    "plt.show()"
   ]
  },
  {
   "cell_type": "markdown",
   "metadata": {},
   "source": [
    "## Correlations across channels/samples\n",
    "\n",
    "We can also correlate parameters across different channels and/or samples:"
   ]
  },
  {
   "cell_type": "code",
   "execution_count": 12,
   "metadata": {},
   "outputs": [],
   "source": [
    "samples = [\n",
    "    {\n",
    "        \"name\": \"sample1\",\n",
    "        \"data\": (hist1).tolist(),\n",
    "        \"modifiers\": [\n",
    "            {\"name\": \"mu\", \"type\": \"normfactor\", \"data\" : None},\n",
    "            {\n",
    "                \"name\": \"u1\",\n",
    "                \"type\": \"histosys\",\n",
    "                \"data\": {\n",
    "                    \"lo_data\": (hist1-hist1).tolist(),\n",
    "                    \"hi_data\": (hist1+hist1).tolist()\n",
    "                }\n",
    "            }\n",
    "        ],\n",
    "    },\n",
    "    {\n",
    "        \"name\": \"sample2\",\n",
    "        \"data\": (hist2).tolist(),\n",
    "        \"modifiers\": [\n",
    "            {\n",
    "                \"name\": \"u2\",\n",
    "                \"type\": \"histosys\",\n",
    "                \"data\": {\n",
    "                    \"lo_data\": (hist2-hist1).tolist(),\n",
    "                    \"hi_data\": (hist2+hist1).tolist()\n",
    "                }\n",
    "            }\n",
    "        ],\n",
    "    },\n",
    "]\n",
    "spec = {\"channels\" : [{\"name\" : \"corrchannel\", \"samples\" : samples}]}\n",
    "model = pyhf.Model(spec)"
   ]
  },
  {
   "cell_type": "code",
   "execution_count": 13,
   "metadata": {},
   "outputs": [
    {
     "name": "stdout",
     "output_type": "stream",
     "text": [
      "Processing correlations ...\n"
     ]
    },
    {
     "name": "stderr",
     "output_type": "stream",
     "text": [
      "/home/lorenz/pyhfcorr/src/pyhfcorr/decorrelate.py:150: UserWarning: Modifier corr[1] is redundant and is not added.\n",
      "  warnings.warn(f\"Modifier {name} is redundant and is not added.\")\n",
      "/home/lorenz/pyhfcorr/src/pyhfcorr/decorrelate.py:150: UserWarning: Modifier corr[1] is redundant and is not added.\n",
      "  warnings.warn(f\"Modifier {name} is redundant and is not added.\")\n"
     ]
    },
    {
     "data": {
      "text/plain": [
       "{'channels': [{'name': 'singlechannel',\n",
       "   'samples': [{'name': 'sample1',\n",
       "     'data': [2.0, 3.0, 6.0, 8.0, 7.0, 7.0, 6.0, 2.0, 3.0, 1.0],\n",
       "     'modifiers': [{'name': 'mu', 'type': 'normfactor', 'data': None},\n",
       "      {'type': 'histosys',\n",
       "       'data': {'lo_data': [0.0, 0.0, 0.0, 0.0, 0.0, 0.0, 0.0, 0.0, 0.0, 0.0],\n",
       "        'hi_data': [4.0, 6.0, 12.0, 16.0, 14.0, 14.0, 12.0, 4.0, 6.0, 2.0]},\n",
       "       'name': 'corr[0]'}]},\n",
       "    {'name': 'sample2',\n",
       "     'data': [3.0, 6.0, 9.0, 12.0, 15.0, 9.0, 6.0, 3.0, 3.0, 2.0],\n",
       "     'modifiers': [{'type': 'histosys',\n",
       "       'data': {'lo_data': [1.0, 3.0, 3.0, 4.0, 8.0, 2.0, 0.0, 1.0, 0.0, 1.0],\n",
       "        'hi_data': [5.0, 9.0, 15.0, 20.0, 22.0, 16.0, 12.0, 5.0, 6.0, 3.0]},\n",
       "       'name': 'corr[0]'}]}]}]}"
      ]
     },
     "execution_count": 13,
     "metadata": {},
     "output_type": "execute_result"
    }
   ],
   "source": [
    "spec = {\n",
    "    \"channels\" : [{\"name\" : \"singlechannel\", \"samples\" : samples}],\n",
    "    \"correlations\": [\n",
    "        {\n",
    "            \"name\": \"corr\",\n",
    "            \"vars\": [\"u1\", \"u2\"],\n",
    "            \"corr\": [[1., 1.], [1., 1.]],\n",
    "        }\n",
    "    ]}\n",
    "\n",
    "new_spec = pyhfcorr.decorrelate(spec)\n",
    "new_model = pyhf.Model(new_spec)\n",
    "new_spec"
   ]
  },
  {
   "cell_type": "markdown",
   "metadata": {},
   "source": [
    "In this case, we see that one `corr[0]` modifier was added to each of the samples. Since they have the same name, [`pyhf`](https://pyhf.readthedocs.io) will treat them as fully correlated."
   ]
  },
  {
   "cell_type": "code",
   "execution_count": 14,
   "metadata": {},
   "outputs": [
    {
     "data": {
      "image/png": "[encoded data removed]",
      "text/plain": [
       "<Figure size 640x480 with 1 Axes>"
      ]
     },
     "metadata": {},
     "output_type": "display_data"
    }
   ],
   "source": [
    "plt.stairs(hist1 + hist1 + hist2 + hist1, bins, fill = True, label = \"corr[0] up\")\n",
    "plt.stairs(hist2 + hist1, bins, fill = True, label = \"nominal\")\n",
    "plt.stairs(hist1 - hist1 + hist2 - hist1, bins, fill=True, label = \"corr[0] dn\")\n",
    "\n",
    "initial_parameters = new_model.config.suggested_init()\n",
    "\n",
    "# we can set corr[0] to (-1, 0, +1) to check the agreement with the expectation\n",
    "initial_parameters[new_model.config.par_slice('corr[0]').start] = 0.\n",
    "\n",
    "plt.stairs(new_model.expected_data(initial_parameters, include_auxdata=False), bins, linewidth=2, color='r')\n",
    "\n",
    "plt.legend()\n",
    "plt.show()"
   ]
  },
  {
   "cell_type": "markdown",
   "metadata": {},
   "source": [
    "## A slightly more complicated example\n",
    "\n"
   ]
  },
  {
   "cell_type": "code",
   "execution_count": 15,
   "metadata": {},
   "outputs": [],
   "source": [
    "samples = [\n",
    "    {\n",
    "        \"name\": \"sample1\",\n",
    "        \"data\": (hist1).tolist(),\n",
    "        \"modifiers\": [\n",
    "            {\"name\": \"mu\", \"type\": \"normfactor\", \"data\" : None},\n",
    "            {\n",
    "                \"name\": \"u1\",\n",
    "                \"type\": \"histosys\",\n",
    "                \"data\": {\n",
    "                    \"lo_data\": (hist1-hist1/2).tolist(),\n",
    "                    \"hi_data\": (hist1+hist1/2).tolist()\n",
    "                }\n",
    "            },\n",
    "            {\n",
    "                \"name\": \"u12\",\n",
    "                \"type\": \"histosys\",\n",
    "                \"data\": {\n",
    "                    \"lo_data\": (hist1-hist2/2).tolist(),\n",
    "                    \"hi_data\": (hist1+hist2/2).tolist()\n",
    "                }\n",
    "            }\n",
    "        ],\n",
    "    },\n",
    "    {\n",
    "        \"name\": \"sample2\",\n",
    "        \"data\": (hist2).tolist(),\n",
    "        \"modifiers\": [\n",
    "            {\n",
    "                \"name\": \"u1\",\n",
    "                \"type\": \"histosys\",\n",
    "                \"data\": {\n",
    "                    \"lo_data\": (hist2-hist1/3).tolist(),\n",
    "                    \"hi_data\": (hist2+hist1/3).tolist()\n",
    "                }\n",
    "            },\n",
    "            {\n",
    "                \"name\": \"u2\",\n",
    "                \"type\": \"histosys\",\n",
    "                \"data\": {\n",
    "                    \"lo_data\": (hist2-hist2/3).tolist(),\n",
    "                    \"hi_data\": (hist2+hist2/3).tolist()\n",
    "                }\n",
    "            }\n",
    "        ],\n",
    "    },\n",
    "]\n",
    "spec = {\"channels\" : [{\"name\" : \"corrchannel\", \"samples\" : samples}]}\n",
    "model = pyhf.Model(spec)\n"
   ]
  },
  {
   "cell_type": "code",
   "execution_count": 16,
   "metadata": {},
   "outputs": [
    {
     "name": "stdout",
     "output_type": "stream",
     "text": [
      "Processing correlations ...\n"
     ]
    },
    {
     "data": {
      "text/plain": [
       "{'channels': [{'name': 'singlechannel',\n",
       "   'samples': [{'name': 'sample1',\n",
       "     'data': [2.0, 3.0, 6.0, 8.0, 7.0, 7.0, 6.0, 2.0, 3.0, 1.0],\n",
       "     'modifiers': [{'name': 'mu', 'type': 'normfactor', 'data': None},\n",
       "      {'type': 'histosys',\n",
       "       'data': {'lo_data': [-0.4999999999999991,\n",
       "         -1.4999999999999982,\n",
       "         -1.4999999999999982,\n",
       "         -1.9999999999999964,\n",
       "         -3.9999999999999964,\n",
       "         -0.9999999999999982,\n",
       "         8.881784197001252e-16,\n",
       "         -0.4999999999999991,\n",
       "         4.440892098500626e-16,\n",
       "         -0.49999999999999956],\n",
       "        'hi_data': [4.499999999999999,\n",
       "         7.499999999999998,\n",
       "         13.499999999999998,\n",
       "         17.999999999999996,\n",
       "         17.999999999999996,\n",
       "         14.999999999999998,\n",
       "         12.0,\n",
       "         4.499999999999999,\n",
       "         6.0,\n",
       "         2.4999999999999996]},\n",
       "       'name': 'corr[0]'},\n",
       "      {'type': 'histosys',\n",
       "       'data': {'lo_data': [2.000000001140177,\n",
       "         2.9999999936754413,\n",
       "         6.00000000342053,\n",
       "         8.000000004560707,\n",
       "         6.999999979886147,\n",
       "         7.000000012025442,\n",
       "         6.0000000194901775,\n",
       "         2.000000001140177,\n",
       "         3.0000000097450887,\n",
       "         0.9999999978918138],\n",
       "        'hi_data': [1.9999999988598234,\n",
       "         3.0000000063245587,\n",
       "         5.99999999657947,\n",
       "         7.9999999954392935,\n",
       "         7.000000020113853,\n",
       "         6.999999987974558,\n",
       "         5.9999999805098225,\n",
       "         1.9999999988598234,\n",
       "         2.9999999902549113,\n",
       "         1.0000000021081863]},\n",
       "       'name': 'corr[1]'},\n",
       "      {'type': 'histosys',\n",
       "       'data': {'lo_data': [2.000000003248363,\n",
       "         3.0000000063245587,\n",
       "         6.000000009745088,\n",
       "         8.000000012993452,\n",
       "         7.000000015725313,\n",
       "         7.0000000099172555,\n",
       "         6.00000000684106,\n",
       "         2.000000003248363,\n",
       "         3.00000000342053,\n",
       "         1.0000000021081863],\n",
       "        'hi_data': [1.999999996751637,\n",
       "         2.9999999936754413,\n",
       "         5.999999990254912,\n",
       "         7.999999987006548,\n",
       "         6.999999984274687,\n",
       "         6.9999999900827445,\n",
       "         5.99999999315894,\n",
       "         1.999999996751637,\n",
       "         2.99999999657947,\n",
       "         0.9999999978918138]},\n",
       "       'name': 'corr[2]'}]},\n",
       "    {'name': 'sample2',\n",
       "     'data': [3.0, 6.0, 9.0, 12.0, 15.0, 9.0, 6.0, 3.0, 3.0, 2.0],\n",
       "     'modifiers': [{'type': 'histosys',\n",
       "       'data': {'lo_data': [3.333333333333333,\n",
       "         6.999999999999999,\n",
       "         9.999999999999998,\n",
       "         13.333333333333332,\n",
       "         17.666666666666664,\n",
       "         9.666666666666664,\n",
       "         5.999999999999999,\n",
       "         3.333333333333333,\n",
       "         2.9999999999999996,\n",
       "         2.333333333333333],\n",
       "        'hi_data': [2.666666666666667,\n",
       "         5.000000000000001,\n",
       "         8.000000000000002,\n",
       "         10.666666666666668,\n",
       "         12.333333333333334,\n",
       "         8.333333333333336,\n",
       "         6.000000000000001,\n",
       "         2.666666666666667,\n",
       "         3.0000000000000004,\n",
       "         1.6666666666666672]},\n",
       "       'name': 'corr[0]'},\n",
       "      {'type': 'histosys',\n",
       "       'data': {'lo_data': [3.0000000179699415,\n",
       "         6.000000030203275,\n",
       "         9.000000053909826,\n",
       "         12.000000071879766,\n",
       "         15.000000072639885,\n",
       "         9.000000059646434,\n",
       "         6.000000047413099,\n",
       "         3.0000000179699415,\n",
       "         3.0000000237065496,\n",
       "         2.0000000100677586],\n",
       "        'hi_data': [2.9999999820300585,\n",
       "         5.999999969796725,\n",
       "         8.999999946090174,\n",
       "         11.999999928120234,\n",
       "         14.999999927360115,\n",
       "         8.999999940353566,\n",
       "         5.999999952586901,\n",
       "         2.9999999820300585,\n",
       "         2.9999999762934504,\n",
       "         1.9999999899322416]},\n",
       "       'name': 'corr[1]'},\n",
       "      {'type': 'histosys',\n",
       "       'data': {'lo_data': [3.0000000025099096,\n",
       "         6.000000004905041,\n",
       "         9.000000007529728,\n",
       "         12.000000010039638,\n",
       "         15.000000012205213,\n",
       "         9.000000007644507,\n",
       "         6.000000005249375,\n",
       "         3.0000000025099096,\n",
       "         3.0000000026246876,\n",
       "         2.0000000016350135],\n",
       "        'hi_data': [2.9999999974900904,\n",
       "         5.999999995094959,\n",
       "         8.999999992470272,\n",
       "         11.999999989960362,\n",
       "         14.999999987794787,\n",
       "         8.999999992355493,\n",
       "         5.999999994750625,\n",
       "         2.9999999974900904,\n",
       "         2.9999999973753124,\n",
       "         1.9999999983649863]},\n",
       "       'name': 'corr[2]'}]}]}]}"
      ]
     },
     "execution_count": 16,
     "metadata": {},
     "output_type": "execute_result"
    }
   ],
   "source": [
    "spec = {\n",
    "    \"channels\" : [{\"name\" : \"singlechannel\", \"samples\" : samples}],\n",
    "    \"correlations\": [\n",
    "        {\n",
    "            \"name\": \"corr\",\n",
    "            \"vars\": [\"u1\", \"u12\", \"u2\"],\n",
    "            \"corr\": [[1., 1., -1.], [1., 1., -1.], [-1., -1., 1.]],\n",
    "        }\n",
    "    ]}\n",
    "\n",
    "new_spec = pyhfcorr.decorrelate(spec)\n",
    "new_model = pyhf.Model(new_spec)\n",
    "new_spec"
   ]
  },
  {
   "cell_type": "code",
   "execution_count": 17,
   "metadata": {},
   "outputs": [
    {
     "data": {
      "image/png": "[encoded data removed]",
      "text/plain": [
       "<Figure size 640x480 with 1 Axes>"
      ]
     },
     "metadata": {},
     "output_type": "display_data"
    }
   ],
   "source": [
    "all_up = hist1 + (hist1 + hist2)/2 + hist2 + (hist1 - hist2)/3\n",
    "nominal = hist2 + hist1\n",
    "all_dn = hist1 - (hist1 + hist2)/2 + hist2 - (hist1 - hist2)/3\n",
    "plt.stairs(all_up, bins, fill = True, label = \"all up\")\n",
    "plt.stairs(nominal, bins, fill = True, label = \"nominal\")\n",
    "plt.stairs(all_dn, bins, fill = True, label = \"all down\")\n",
    "\n",
    "initial_parameters = new_model.config.suggested_init()\n",
    "\n",
    "# we can set corr[0] to (-1, 0, +1) to check the agreement with the expectation\n",
    "initial_parameters[new_model.config.par_slice('corr[0]').start] = 1\n",
    "plt.stairs(new_model.expected_data(initial_parameters, include_auxdata=False), bins, linewidth=2, color='r')\n",
    "\n",
    "plt.legend()\n",
    "plt.show()"
   ]
  },
  {
   "cell_type": "code",
   "execution_count": 18,
   "metadata": {},
   "outputs": [
    {
     "name": "stdout",
     "output_type": "stream",
     "text": [
      "corr[0] 0.94 +/- 0.25\n",
      "corr[1] 0.00 +/- 0.99\n",
      "corr[2] 0.00 +/- 0.99\n",
      "mu 1.00 +/- 0.00\n"
     ]
    }
   ],
   "source": [
    "par_names = new_model.config.par_names\n",
    "pyhf.set_backend('numpy',  'minuit')\n",
    "best_fit = pyhf.infer.mle.fixed_poi_fit(1, all_up.tolist() + model.config.auxdata, new_model, return_uncertainties=True)\n",
    "\n",
    "for p, v in zip(par_names, best_fit):\n",
    "    print(p, f'{v[0]:.2f} +/- {v[1]:.2f}')"
   ]
  },
  {
   "cell_type": "markdown",
   "metadata": {},
   "source": [
    "## Final remarks\n",
    "\n",
    "- We can now treat arbitrary correlations between parameters for [`pyhf`](https://pyhf.readthedocs.io) models.\n",
    "- The pre-processing approach makes it fast and efficient.\n",
    "- No additional dependencies, once model parameters are decorrelated.\n",
    "- Easy installation with `pip install pyhfcorr`.\n",
    "- `pre-commit` set up for linting.\n",
    "- [Tests](test) implemented for standardized cases.\n",
    "- CI set up to automatically run tests with `github actions`.\n",
    "- Merge into [`pyhf`](https://pyhf.readthedocs.io) in discussion - [#2463](https://github.com/scikit-hep/pyhf/issues/2463).\n",
    "\n",
    "Check out the [repository](https://github.com/lorenzennio/pyhfcorr)\n",
    "\n",
    "Feedback welcome: [File issue on GitHub](https://github.com/lorenzennio/pyhfcorr/issues/new/choose)"
   ]
  }
 ],
 "metadata": {
  "kernelspec": {
   "display_name": "Python 3",
   "language": "python",
   "name": "python3"
  },
  "language_info": {
   "codemirror_mode": {
    "name": "ipython",
    "version": 3
   },
   "file_extension": ".py",
   "mimetype": "text/x-python",
   "name": "python",
   "nbconvert_exporter": "python",
   "pygments_lexer": "ipython3",
   "version": "3.10.13"
  }
 },
 "nbformat": 4,
 "nbformat_minor": 2
}
